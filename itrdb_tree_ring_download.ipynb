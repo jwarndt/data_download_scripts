{
 "cells": [
  {
   "cell_type": "code",
   "execution_count": 19,
   "metadata": {
    "collapsed": true
   },
   "outputs": [],
   "source": [
    "import urllib.request\n",
    "import json\n",
    "from bs4 import BeautifulSoup\n",
    "\n",
    "root_path = \"https://www1.ncdc.noaa.gov/pub/data/metadata/published/paleo/json\"\n",
    "files = []\n",
    "with urllib.request.urlopen(root_path) as url:\n",
    "    html_doc = url.read()\n",
    "    soup = BeautifulSoup(html_doc, 'html.parser')\n",
    "conts = soup.body.table.contents\n",
    "for line in conts:\n",
    "    fname = lin.get_text()\n",
    "    if \"tree\" in fname:\n",
    "        record_name = fname[:fname.index('.json')] + \".json\"\n",
    "        full_path = os.path.join(root_path, record_name)\n",
    "        with urllib.request.urlopen(full_path) as url:\n",
    "            json_doc_string = url.read()\n",
    "            json_doc = json.loads(json_doc_string)\n",
    "        orig_file = json_doc_string\n",
    "        study_id  = json_doc[\"NOAAStudyId\"]\n",
    "        doi = json_doc[\"doi\"]\n",
    "        investigators = json_doc[\"investigators\"]\n",
    "        site_coords = json_doc['site'][0]['geo']['geometry']['coordinates']\n",
    "        data = []\n",
    "        n = 0\n",
    "        while n < len(json_doc['site'][0]['paleoData'][0]['dataFile']):\n",
    "            data.append({'description': json_doc['site'][0]['paleoData'][0]['dataFile'][n]['urlDescription'],\n",
    "                        'filepath': json_doc['site'][0]['paleoData'][0]['dataFile'][n]['fileUrl']})\n",
    "            if len(json_doc['site'][0]['paleoData'][0]['dataFile'][n]['variables']) > 0:\n",
    "                data[n]['method'] = json_doc['site'][0]['paleoData'][0]['dataFile'][n]['variables'][0]['cvMethod']\n",
    "                data[n]['var_description'] = json_doc['site'][0]['paleoData'][0]['dataFile'][n]['variables'][0]['cvWhat']\n",
    "            n+=1\n",
    "        site_name = json_doc['site'][0]['siteName']\n",
    "        common_species = json_doc['site'][0]['paleoData'][0]['species'][0]['commonName']\n",
    "        scientific_species = json_doc['site'][0]['paleoData'][0]['species'][0]['scientificName']\n",
    "        code_species = json_doc['site'][0]['paleoData'][0]['species'][0]['speciesCode']\n",
    "        earliest_date = json_doc['site'][0]['paleoData'][0]['earliestYear']\n",
    "        most_recent_date = json_doc['site'][0]['paleoData'][0]['mostRecentYear']\n",
    "        \n",
    "        geojson = {\"type\": \"Feature\",\n",
    "                    \"geometry\": {\n",
    "                        \"type\": \"Point\",\n",
    "                        \"coordinates\": [site_coords[1], site_coords[0]]\n",
    "                      },\n",
    "                      \"properties\": {\n",
    "                        \"orig_filename\": orig_file,\n",
    "                          \"study_ID\": study_id,\n",
    "                          \"doi\": doi,\n",
    "                          \"investigatores\": investigatores,\n",
    "                          \"lat\": site_coords[0],\n",
    "                          \"lon\": site_coords[1],\n",
    "                          \"site_name\": site_name,\n",
    "                          \"species_name_com\": common_species,\n",
    "                          \"species_name_sci\": scientific_species,\n",
    "                          \"species_code\": code_species,\n",
    "                          \"earliest_year\": earliest_date,\n",
    "                          \"most_recent_year\": most_recent_date,\n",
    "                      }\n",
    "                    }\n",
    "        for n in data:\n",
    "            geojson['properties']['data1']"
   ]
  }
 ],
 "metadata": {
  "kernelspec": {
   "display_name": "Python 3",
   "language": "python",
   "name": "python3"
  },
  "language_info": {
   "codemirror_mode": {
    "name": "ipython",
    "version": 3
   },
   "file_extension": ".py",
   "mimetype": "text/x-python",
   "name": "python",
   "nbconvert_exporter": "python",
   "pygments_lexer": "ipython3",
   "version": "3.6.3"
  }
 },
 "nbformat": 4,
 "nbformat_minor": 2
}
